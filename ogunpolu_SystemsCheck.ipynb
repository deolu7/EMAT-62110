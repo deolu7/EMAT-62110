{
 "cells": [
  {
   "cell_type": "markdown",
   "id": "229638de-8df4-4d17-8225-e0cba88da5f1",
   "metadata": {},
   "source": [
    "# __System Check__\n",
    "## Ogunpolu Joy\n",
    "### _8/22/2022_\n",
    "\n",
    "![](https://images.unsplash.com/photos/black-flat-screen-computer-monitor-oXlXu2qukGE)\n",
    "\n",
    "#### __What i hope to get from this class__\n",
    " 1. I want to be able to code effectively\n",
    " 2. I want to be able to see how interactive data can play a role in users experience in relation to design"
   ]
  },
  {
   "cell_type": "code",
   "execution_count": 1,
   "id": "f7839d96-1e4f-4ff0-9483-0c3cfc9820ce",
   "metadata": {},
   "outputs": [
    {
     "data": {
      "text/plain": [
       "[62110, 62112, 63118]"
      ]
     },
     "execution_count": 1,
     "metadata": {},
     "output_type": "execute_result"
    }
   ],
   "source": [
    "my_courses = [62110,62112,63118] \n",
    "my_courses"
   ]
  },
  {
   "cell_type": "code",
   "execution_count": 2,
   "id": "b8688517-265b-4093-85ad-bca05b73c54d",
   "metadata": {},
   "outputs": [
    {
     "data": {
      "text/plain": [
       "63118"
      ]
     },
     "execution_count": 2,
     "metadata": {},
     "output_type": "execute_result"
    }
   ],
   "source": [
    "my_courses[2]"
   ]
  },
  {
   "cell_type": "code",
   "execution_count": 3,
   "id": "442d2991-335c-4c82-888a-e29da3e8c15e",
   "metadata": {},
   "outputs": [
    {
     "data": {
      "text/plain": [
       "'emat62110,emat62112,vcd63118'"
      ]
     },
     "execution_count": 3,
     "metadata": {},
     "output_type": "execute_result"
    }
   ],
   "source": [
    "my_courses = 'emat62110,emat62112,vcd63118'\n",
    "my_courses"
   ]
  },
  {
   "cell_type": "code",
   "execution_count": 4,
   "id": "48ee4db3-0a3a-4b11-98e1-40474eba9abc",
   "metadata": {},
   "outputs": [],
   "source": [
    "def display_courses(x):\n",
    "    print(x)"
   ]
  },
  {
   "cell_type": "code",
   "execution_count": 5,
   "id": "73015613-56b5-4a46-9cf7-e51889e9778c",
   "metadata": {},
   "outputs": [
    {
     "name": "stdout",
     "output_type": "stream",
     "text": [
      "emat62110,emat62112,vcd63118\n"
     ]
    }
   ],
   "source": [
    "display_courses(my_courses)"
   ]
  }
 ],
 "metadata": {
  "kernelspec": {
   "display_name": "Python 3 (ipykernel)",
   "language": "python",
   "name": "python3"
  },
  "language_info": {
   "codemirror_mode": {
    "name": "ipython",
    "version": 3
   },
   "file_extension": ".py",
   "mimetype": "text/x-python",
   "name": "python",
   "nbconvert_exporter": "python",
   "pygments_lexer": "ipython3",
   "version": "3.12.4"
  }
 },
 "nbformat": 4,
 "nbformat_minor": 5
}
