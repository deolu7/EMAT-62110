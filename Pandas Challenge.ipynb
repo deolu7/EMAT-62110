{
 "cells": [
  {
   "cell_type": "code",
   "execution_count": 1,
   "id": "478e3723-3868-4f78-ae41-d90b718a1d04",
   "metadata": {},
   "outputs": [],
   "source": [
    "import pandas as pd"
   ]
  },
  {
   "cell_type": "code",
   "execution_count": 2,
   "id": "4f4de391-b2a5-4b31-98ff-b5b3563535dd",
   "metadata": {},
   "outputs": [
    {
     "data": {
      "text/html": [
       "<div>\n",
       "<style scoped>\n",
       "    .dataframe tbody tr th:only-of-type {\n",
       "        vertical-align: middle;\n",
       "    }\n",
       "\n",
       "    .dataframe tbody tr th {\n",
       "        vertical-align: top;\n",
       "    }\n",
       "\n",
       "    .dataframe thead th {\n",
       "        text-align: right;\n",
       "    }\n",
       "</style>\n",
       "<table border=\"1\" class=\"dataframe\">\n",
       "  <thead>\n",
       "    <tr style=\"text-align: right;\">\n",
       "      <th></th>\n",
       "      <th>Free</th>\n",
       "      <th>Paid</th>\n",
       "      <th>Premium</th>\n",
       "    </tr>\n",
       "  </thead>\n",
       "  <tbody>\n",
       "    <tr>\n",
       "      <th>0</th>\n",
       "      <td>Netflix</td>\n",
       "      <td>Hulu</td>\n",
       "      <td>HBO max</td>\n",
       "    </tr>\n",
       "    <tr>\n",
       "      <th>1</th>\n",
       "      <td>Amazon Prime</td>\n",
       "      <td>Max</td>\n",
       "      <td>Disney+</td>\n",
       "    </tr>\n",
       "    <tr>\n",
       "      <th>2</th>\n",
       "      <td>Paramount</td>\n",
       "      <td>Peacock</td>\n",
       "      <td>Mubi</td>\n",
       "    </tr>\n",
       "  </tbody>\n",
       "</table>\n",
       "</div>"
      ],
      "text/plain": [
       "           Free     Paid  Premium\n",
       "0       Netflix     Hulu  HBO max\n",
       "1  Amazon Prime      Max  Disney+\n",
       "2     Paramount  Peacock     Mubi"
      ]
     },
     "execution_count": 2,
     "metadata": {},
     "output_type": "execute_result"
    }
   ],
   "source": [
    "streaming_services = [{'Free' : 'Netflix', 'Paid' : 'Hulu', 'Premium' : 'HBO max'},\n",
    "                      {'Free' : 'Amazon Prime', 'Paid' : 'Max', 'Premium' : 'Disney+'},\n",
    "                      {'Free' : 'Paramount', 'Paid' : 'Peacock', 'Premium' : 'Mubi'}]\n",
    "pd.DataFrame(streaming_services)"
   ]
  },
  {
   "cell_type": "code",
   "execution_count": 3,
   "id": "f04aafb0-c320-4cdc-aee7-ad1836c90d68",
   "metadata": {},
   "outputs": [
    {
     "data": {
      "text/html": [
       "<div>\n",
       "<style scoped>\n",
       "    .dataframe tbody tr th:only-of-type {\n",
       "        vertical-align: middle;\n",
       "    }\n",
       "\n",
       "    .dataframe tbody tr th {\n",
       "        vertical-align: top;\n",
       "    }\n",
       "\n",
       "    .dataframe thead th {\n",
       "        text-align: right;\n",
       "    }\n",
       "</style>\n",
       "<table border=\"1\" class=\"dataframe\">\n",
       "  <thead>\n",
       "    <tr style=\"text-align: right;\">\n",
       "      <th></th>\n",
       "      <th>Free</th>\n",
       "      <th>Paid</th>\n",
       "      <th>Premium</th>\n",
       "    </tr>\n",
       "  </thead>\n",
       "  <tbody>\n",
       "    <tr>\n",
       "      <th>0</th>\n",
       "      <td>Netflix</td>\n",
       "      <td>Hulu</td>\n",
       "      <td>HBO max</td>\n",
       "    </tr>\n",
       "    <tr>\n",
       "      <th>1</th>\n",
       "      <td>Amazon Prime</td>\n",
       "      <td>Max</td>\n",
       "      <td>Disney+</td>\n",
       "    </tr>\n",
       "    <tr>\n",
       "      <th>2</th>\n",
       "      <td>Paramount</td>\n",
       "      <td>Peacock</td>\n",
       "      <td>Mubi</td>\n",
       "    </tr>\n",
       "  </tbody>\n",
       "</table>\n",
       "</div>"
      ],
      "text/plain": [
       "           Free     Paid  Premium\n",
       "0       Netflix     Hulu  HBO max\n",
       "1  Amazon Prime      Max  Disney+\n",
       "2     Paramount  Peacock     Mubi"
      ]
     },
     "execution_count": 3,
     "metadata": {},
     "output_type": "execute_result"
    }
   ],
   "source": [
    "my_df = pd.DataFrame(streaming_services)\n",
    "my_df.head()"
   ]
  },
  {
   "cell_type": "code",
   "execution_count": 4,
   "id": "c20fd9bf-8546-4bd1-93ee-ae0aecc94ae6",
   "metadata": {},
   "outputs": [
    {
     "data": {
      "text/plain": [
       "RangeIndex(start=0, stop=3, step=1)"
      ]
     },
     "execution_count": 4,
     "metadata": {},
     "output_type": "execute_result"
    }
   ],
   "source": [
    "my_df.index"
   ]
  },
  {
   "cell_type": "code",
   "execution_count": 5,
   "id": "bc4c3541-2aac-4e11-82ef-cc6b74252d17",
   "metadata": {},
   "outputs": [
    {
     "data": {
      "text/plain": [
       "0         Netflix\n",
       "1    Amazon Prime\n",
       "2       Paramount\n",
       "Name: Free, dtype: object"
      ]
     },
     "execution_count": 5,
     "metadata": {},
     "output_type": "execute_result"
    }
   ],
   "source": [
    "my_df['Free']"
   ]
  },
  {
   "cell_type": "code",
   "execution_count": 6,
   "id": "fb6848f9-6b7c-498f-9037-2132d86ca7fb",
   "metadata": {},
   "outputs": [
    {
     "data": {
      "text/plain": [
       "Free       Netflix\n",
       "Paid          Hulu\n",
       "Premium    HBO max\n",
       "Name: 0, dtype: object"
      ]
     },
     "execution_count": 6,
     "metadata": {},
     "output_type": "execute_result"
    }
   ],
   "source": [
    "my_df.loc[0]"
   ]
  },
  {
   "cell_type": "code",
   "execution_count": 7,
   "id": "f3c9d804-7017-411b-8a21-49cbdff37fd2",
   "metadata": {},
   "outputs": [
    {
     "data": {
      "text/plain": [
       "Free       Netflix\n",
       "Paid          Hulu\n",
       "Premium    HBO max\n",
       "Name: 0, dtype: object"
      ]
     },
     "execution_count": 7,
     "metadata": {},
     "output_type": "execute_result"
    }
   ],
   "source": [
    "my_df.loc[0]"
   ]
  },
  {
   "cell_type": "code",
   "execution_count": 8,
   "id": "59f9b722-d325-4bc9-aa2b-b7353b0fd33f",
   "metadata": {},
   "outputs": [
    {
     "data": {
      "text/html": [
       "<div>\n",
       "<style scoped>\n",
       "    .dataframe tbody tr th:only-of-type {\n",
       "        vertical-align: middle;\n",
       "    }\n",
       "\n",
       "    .dataframe tbody tr th {\n",
       "        vertical-align: top;\n",
       "    }\n",
       "\n",
       "    .dataframe thead th {\n",
       "        text-align: right;\n",
       "    }\n",
       "</style>\n",
       "<table border=\"1\" class=\"dataframe\">\n",
       "  <thead>\n",
       "    <tr style=\"text-align: right;\">\n",
       "      <th></th>\n",
       "      <th>Free</th>\n",
       "      <th>Paid</th>\n",
       "      <th>Premium</th>\n",
       "    </tr>\n",
       "  </thead>\n",
       "  <tbody>\n",
       "    <tr>\n",
       "      <th>0</th>\n",
       "      <td>Netflix</td>\n",
       "      <td>Hulu</td>\n",
       "      <td>HBO max</td>\n",
       "    </tr>\n",
       "    <tr>\n",
       "      <th>1</th>\n",
       "      <td>Amazon Prime</td>\n",
       "      <td>Max</td>\n",
       "      <td>Disney+</td>\n",
       "    </tr>\n",
       "    <tr>\n",
       "      <th>2</th>\n",
       "      <td>Paramount</td>\n",
       "      <td>Peacock</td>\n",
       "      <td>Mubi</td>\n",
       "    </tr>\n",
       "  </tbody>\n",
       "</table>\n",
       "</div>"
      ],
      "text/plain": [
       "           Free     Paid  Premium\n",
       "0       Netflix     Hulu  HBO max\n",
       "1  Amazon Prime      Max  Disney+\n",
       "2     Paramount  Peacock     Mubi"
      ]
     },
     "execution_count": 8,
     "metadata": {},
     "output_type": "execute_result"
    }
   ],
   "source": [
    "streaming_services_dict = {'Free' : ['Netflix', 'Amazon Prime', 'Paramount'],\n",
    "                           'Paid' : ['Hulu', 'Max', 'Peacock'],\n",
    "                           'Premium' : ['HBO max', 'Disney+', 'Mubi']}\n",
    "pd.DataFrame(streaming_services_dict)"
   ]
  },
  {
   "cell_type": "code",
   "execution_count": 9,
   "id": "18ffb766-a7d4-4d2a-8bb4-4c3a9bdeaa94",
   "metadata": {},
   "outputs": [],
   "source": [
    "my_df.to_csv('streaming_services.csv', index=False)"
   ]
  },
  {
   "cell_type": "markdown",
   "id": "ce200249-a400-4418-a928-3255ac7b9cdb",
   "metadata": {},
   "source": [
    "### What does the \"write/render/evaluate\" loop provide for creators of interactive data visualizations?\n",
    "   * The write/render/evaluate enables creators to develop interactive data using a particular approach by writing the code, rendering the visualization and seeing the effectiveness of the output.\n",
    "### Why are dynamic, interactive data visualizations useful when communicating data\n",
    "   * It enables people to explore the data for themselves, encourages engagement with the audience and also promotes interaction with the data at a higher dimesion..\n",
    "### Do you agree with Murray's claim that open-source tools that avoid proprietary software are best for publishing data visualization? In a few sentences, explain why you do or do not agree.\n",
    "   * I agree with Murray's claim that open-source tools are best for publishing data visualization because it enable transparency wiuchenabless usero customize the tools to better meet their needs. They are also free to use "
   ]
  }
 ],
 "metadata": {
  "kernelspec": {
   "display_name": "Python 3 (ipykernel)",
   "language": "python",
   "name": "python3"
  },
  "language_info": {
   "codemirror_mode": {
    "name": "ipython",
    "version": 3
   },
   "file_extension": ".py",
   "mimetype": "text/x-python",
   "name": "python",
   "nbconvert_exporter": "python",
   "pygments_lexer": "ipython3",
   "version": "3.12.4"
  }
 },
 "nbformat": 4,
 "nbformat_minor": 5
}
